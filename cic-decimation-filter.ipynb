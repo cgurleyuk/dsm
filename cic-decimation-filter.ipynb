{
 "cells": [
  {
   "cell_type": "code",
   "execution_count": 7,
   "metadata": {},
   "outputs": [
    {
     "name": "stderr",
     "output_type": "stream",
     "text": [
      "WARNING: replacing module dsm\n"
     ]
    }
   ],
   "source": [
    "include(\"dsm.jl\")\n",
    "import dsm\n",
    "import PyPlot"
   ]
  },
  {
   "cell_type": "code",
   "execution_count": 8,
   "metadata": {},
   "outputs": [
    {
     "ename": "LoadError",
     "evalue": "\u001b[91mPyError (ccall(@pysym(:PyObject_Call), PyPtr, (PyPtr, PyPtr, PyPtr), o, arg, kw)) <class 'AttributeError'>\nAttributeError('Unknown property loc',)\n  File \"/home/cgurleyuk/.virtualenvs/local/lib/python3.6/site-packages/matplotlib/pyplot.py\", line 3716, in grid\n    ret = gca().grid(b=b, which=which, axis=axis, **kwargs)\n  File \"/home/cgurleyuk/.virtualenvs/local/lib/python3.6/site-packages/matplotlib/axes/_base.py\", line 2498, in grid\n    self.xaxis.grid(b, which=which, **kwargs)\n  File \"/home/cgurleyuk/.virtualenvs/local/lib/python3.6/site-packages/matplotlib/axis.py\", line 1421, in grid\n    tick.gridline.update(kwargs)\n  File \"/home/cgurleyuk/.virtualenvs/local/lib/python3.6/site-packages/matplotlib/artist.py\", line 847, in update\n    for k, v in props.items()]\n  File \"/home/cgurleyuk/.virtualenvs/local/lib/python3.6/site-packages/matplotlib/artist.py\", line 847, in <listcomp>\n    for k, v in props.items()]\n  File \"/home/cgurleyuk/.virtualenvs/local/lib/python3.6/site-packages/matplotlib/artist.py\", line 840, in _update_property\n    raise AttributeError('Unknown property %s' % k)\n\u001b[39m",
     "output_type": "error",
     "traceback": [
      "\u001b[91mPyError (ccall(@pysym(:PyObject_Call), PyPtr, (PyPtr, PyPtr, PyPtr), o, arg, kw)) <class 'AttributeError'>\nAttributeError('Unknown property loc',)\n  File \"/home/cgurleyuk/.virtualenvs/local/lib/python3.6/site-packages/matplotlib/pyplot.py\", line 3716, in grid\n    ret = gca().grid(b=b, which=which, axis=axis, **kwargs)\n  File \"/home/cgurleyuk/.virtualenvs/local/lib/python3.6/site-packages/matplotlib/axes/_base.py\", line 2498, in grid\n    self.xaxis.grid(b, which=which, **kwargs)\n  File \"/home/cgurleyuk/.virtualenvs/local/lib/python3.6/site-packages/matplotlib/axis.py\", line 1421, in grid\n    tick.gridline.update(kwargs)\n  File \"/home/cgurleyuk/.virtualenvs/local/lib/python3.6/site-packages/matplotlib/artist.py\", line 847, in update\n    for k, v in props.items()]\n  File \"/home/cgurleyuk/.virtualenvs/local/lib/python3.6/site-packages/matplotlib/artist.py\", line 847, in <listcomp>\n    for k, v in props.items()]\n  File \"/home/cgurleyuk/.virtualenvs/local/lib/python3.6/site-packages/matplotlib/artist.py\", line 840, in _update_property\n    raise AttributeError('Unknown property %s' % k)\n\u001b[39m",
      "",
      "Stacktrace:",
      " [1] \u001b[1mpyerr_check\u001b[22m\u001b[22m at \u001b[1m/home/cgurleyuk/.julia/v0.6/PyCall/src/exception.jl:56\u001b[22m\u001b[22m [inlined]",
      " [2] \u001b[1mpyerr_check\u001b[22m\u001b[22m at \u001b[1m/home/cgurleyuk/.julia/v0.6/PyCall/src/exception.jl:61\u001b[22m\u001b[22m [inlined]",
      " [3] \u001b[1mmacro expansion\u001b[22m\u001b[22m at \u001b[1m/home/cgurleyuk/.julia/v0.6/PyCall/src/exception.jl:81\u001b[22m\u001b[22m [inlined]",
      " [4] \u001b[1m#_pycall#67\u001b[22m\u001b[22m\u001b[1m(\u001b[22m\u001b[22m::Array{Any,1}, ::Function, ::PyCall.PyObject\u001b[1m)\u001b[22m\u001b[22m at \u001b[1m/home/cgurleyuk/.julia/v0.6/PyCall/src/PyCall.jl:658\u001b[22m\u001b[22m",
      " [5] \u001b[1m(::PyCall.#kw##_pycall)\u001b[22m\u001b[22m\u001b[1m(\u001b[22m\u001b[22m::Array{Any,1}, ::PyCall.#_pycall, ::PyCall.PyObject\u001b[1m)\u001b[22m\u001b[22m at \u001b[1m./<missing>:0\u001b[22m\u001b[22m",
      " [6] \u001b[1m#pycall#71\u001b[22m\u001b[22m\u001b[1m(\u001b[22m\u001b[22m::Array{Any,1}, ::Function, ::PyCall.PyObject, ::Type{PyCall.PyAny}\u001b[1m)\u001b[22m\u001b[22m at \u001b[1m/home/cgurleyuk/.julia/v0.6/PyCall/src/PyCall.jl:675\u001b[22m\u001b[22m",
      " [7] \u001b[1m(::PyCall.#kw##pycall)\u001b[22m\u001b[22m\u001b[1m(\u001b[22m\u001b[22m::Array{Any,1}, ::PyCall.#pycall, ::PyCall.PyObject, ::Type{PyCall.PyAny}\u001b[1m)\u001b[22m\u001b[22m at \u001b[1m./<missing>:0\u001b[22m\u001b[22m",
      " [8] \u001b[1m#grid#59\u001b[22m\u001b[22m\u001b[1m(\u001b[22m\u001b[22m::Array{Any,1}, ::Function\u001b[1m)\u001b[22m\u001b[22m at \u001b[1m/home/cgurleyuk/.julia/v0.6/PyPlot/src/PyPlot.jl:172\u001b[22m\u001b[22m",
      " [9] \u001b[1m(::PyPlot.#kw##grid)\u001b[22m\u001b[22m\u001b[1m(\u001b[22m\u001b[22m::Array{Any,1}, ::PyPlot.#grid\u001b[1m)\u001b[22m\u001b[22m at \u001b[1m./<missing>:0\u001b[22m\u001b[22m"
     ]
    }
   ],
   "source": [
    "f_s = 1e6;\n",
    "T_s = 1/f_s;\n",
    "\n",
    "n_fft = 2^20;\n",
    "n_ini = 2^16;\n",
    "k = 71;\n",
    "\n",
    "f_i = f_s/n_fft*k;\n",
    "a_i = .5;\n",
    "b_i = 0;\n",
    "\n",
    "n_i = 0;\n",
    "\n",
    "t = 0:T_s:T_s*(n_fft+n_ini-1);\n",
    "inp = a_i*sin.(2*pi*f_i*t) + b_i + 2*n_i*(rand(size(t))-.5);\n",
    "\n",
    "int_1 = zeros(size(t));\n",
    "int_2 = zeros(size(t));\n",
    "q_0   = zeros(size(t));\n",
    "\n",
    "q_0[1] = 0;\n",
    "\n",
    "for i = 2:length(inp)\n",
    "    int_1[i] = int_1[i-1] + (inp[i] - q_0[i-1]);\n",
    "    int_2[i] = int_2[i-1] + (int_1[i] - q_0[i-1]);\n",
    "    q_0[i] = (int_2[i] > 0)*2-1;\n",
    "end\n",
    "\n",
    "q = q_0[end-n_fft+1:end];\n",
    "\n",
    "q_snr = dsm.snr(q, f_i, f_s/(2*256), f_s);\n",
    "\n",
    "w = DSP.Windows.kaiser(n_fft, 20);\n",
    "wf = mean(w);\n",
    "Y_inp = fft(q.*w)/n_fft/wf;\n",
    "\n",
    "f = linspace(0, f_s/2, (n_fft/2+1));\n",
    "\n",
    "PyPlot.semilogx(f, 20*log10.(2*abs.(Y_inp[1:trunc(Int64, n_fft/2+1)])), label=@sprintf(\"snr = %.2f\", q_snr));\n",
    "PyPlot.hold(true);\n",
    "PyPlot.semilogx(f[1:trunc(Int64, n_fft/(2*256))], 20*log10.(2*abs.(Y_inp[1:trunc(Int64, n_fft/(2*256))])))\n",
    "PyPlot.grid(loc=2);\n",
    "PyPlot.hold(false);\n",
    "PyPlot.grid(true);\n",
    "PyPlot.xlabel(\"frequency [Hz]\");\n",
    "PyPlot.ylabel(\"amplitude\");\n",
    "\n"
   ]
  },
  {
   "cell_type": "code",
   "execution_count": 9,
   "metadata": {},
   "outputs": [],
   "source": [
    "cic_r = 256;\n",
    "cic_m = 1;\n",
    "cic_n = 3;\n",
    "\n",
    "cic_int_1 = zeros(size(q_0));\n",
    "cic_int_2 = zeros(size(q_0));\n",
    "cic_int_3 = zeros(size(q_0));\n",
    "cic_dec   = zeros(length(q_0)/cic_r+1);\n",
    "cic_dif_1 = zeros(length(q_0)/cic_r+1);\n",
    "cic_dif_2 = zeros(length(q_0)/cic_r+1);\n",
    "cic_dif_3 = zeros(length(q_0)/cic_r+1);\n",
    "t_dec     = zeros(length(q_0)/cic_r+1);\n",
    "\n",
    "c = 0;\n",
    "k = cic_m;\n",
    "for i = 2:length(q_0)\n",
    "    cic_int_1[i] = cic_int_1[i-1] + q_0[i];\n",
    "    cic_int_2[i] = cic_int_2[i-1] + cic_int_1[i];\n",
    "    cic_int_3[i] = cic_int_3[i-1] + cic_int_2[i];\n",
    "    c = c + 1;\n",
    "    if c == cic_r\n",
    "        c = 0;\n",
    "        k = k + 1;\n",
    "        t_dec[k] = t[i];\n",
    "        cic_dec[k] = cic_int_3[i];\n",
    "        cic_dif_1[k] = cic_dec[k] - cic_dec[k-cic_m];\n",
    "        cic_dif_2[k] = cic_dif_1[k] - cic_dif_1[k-cic_m];\n",
    "        cic_dif_3[k] = cic_dif_2[k] - cic_dif_2[k-cic_m];\n",
    "    end\n",
    "end\n",
    "\n",
    "k = (cic_r*cic_m)^cic_n;\n",
    "cic_out = cic_dif_3[trunc(Int64, end-n_fft/cic_r+1):end]/k;"
   ]
  },
  {
   "cell_type": "code",
   "execution_count": 10,
   "metadata": {},
   "outputs": [
    {
     "ename": "LoadError",
     "evalue": "\u001b[91mUndefVarError: snrx not defined\u001b[39m",
     "output_type": "error",
     "traceback": [
      "\u001b[91mUndefVarError: snrx not defined\u001b[39m",
      ""
     ]
    }
   ],
   "source": [
    "cic_n_fft = trunc(Int64, n_fft/cic_r);\n",
    "w = DSP.Windows.kaiser(cic_n_fft, 20);\n",
    "wf = mean(w);\n",
    "Y_cic = fft(cic_out.*w)/cic_n_fft/wf;\n",
    "\n",
    "f_cic = linspace(0, f_s/2/cic_r, (cic_n_fft/2+1));\n",
    "\n",
    "cic_snr = dsm.snr(cic_out, f_i, f_s/(2*256), f_s/256);\n",
    "\n",
    "PyPlot.semilogx(f, 20*log10.(2*abs.(Y_inp[1:trunc(Int64, n_fft/2+1)])));\n",
    "PyPlot.hold(true);\n",
    "PyPlot.semilogx(f[1:trunc(Int64, n_fft/(2*256))], 20*log10.(2*abs.(Y_inp[1:trunc(Int64, n_fft/(2*256))])), label=@sprintf(\"snr = %.2f\", q_snr));\n",
    "PyPlot.semilogx(f_cic, 20*log10.(2*abs.(Y_cic[1:trunc(Int64, cic_n_fft/2+1)])), label=@sprintf(\"snr = %.2f\", cic_snr));\n",
    "PyPlot.legend(loc=2)\n",
    "PyPlot.hold(false);\n",
    "PyPlot.grid();\n",
    "PyPlot.xlabel(\"frequency [Hz]\");\n",
    "PyPlot.ylabel(\"amplitude [dB]\");"
   ]
  },
  {
   "cell_type": "code",
   "execution_count": null,
   "metadata": {},
   "outputs": [],
   "source": []
  }
 ],
 "metadata": {
  "kernelspec": {
   "display_name": "Julia 0.6.1",
   "language": "julia",
   "name": "julia-0.6"
  },
  "language_info": {
   "file_extension": ".jl",
   "mimetype": "application/julia",
   "name": "julia",
   "version": "0.6.1"
  }
 },
 "nbformat": 4,
 "nbformat_minor": 2
}
